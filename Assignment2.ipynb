{
 "cells": [
  {
   "cell_type": "code",
   "execution_count": null,
   "id": "e371763f-8297-456a-a790-c1103c3a896f",
   "metadata": {},
   "outputs": [],
   "source": [
    "# 1 Basic Function Implementation:"
   ]
  },
  {
   "cell_type": "code",
   "execution_count": 4,
   "id": "faa97337-93cb-4c9a-b19a-7080cc2994a1",
   "metadata": {},
   "outputs": [
    {
     "name": "stdout",
     "output_type": "stream",
     "text": [
      "Hello, Alice\n",
      "Goog morning, Bob\n"
     ]
    }
   ],
   "source": [
    "def greet(name, greeting=\"Hello\"):\n",
    "    return f\"{greeting}, {name}\"\n",
    "\n",
    "# Example usage:\n",
    "print(greet(\"Alice\"))  # Output: \"Hello, Alice!\"\n",
    "print(greet(\"Bob\", greeting=\"Goog morning\"))  # Output: \"Good morinig, Bob!\"\n"
   ]
  },
  {
   "cell_type": "code",
   "execution_count": null,
   "id": "41eaef83-f76c-4235-9b3d-00a7eddcf286",
   "metadata": {},
   "outputs": [],
   "source": []
  },
  {
   "cell_type": "code",
   "execution_count": null,
   "id": "1ce65bc3-90f8-4380-bdce-61e3a2efb187",
   "metadata": {},
   "outputs": [],
   "source": [
    "# 2 Named Arguments:"
   ]
  },
  {
   "cell_type": "code",
   "execution_count": 9,
   "id": "8a932520-f866-4264-b5c3-04cd9d34f4b3",
   "metadata": {},
   "outputs": [
    {
     "name": "stdout",
     "output_type": "stream",
     "text": [
      "Name: Amma, Age: 22, City: Los Angeles\n",
      "Name: jhon, Age: 18, City: Chicagos\n"
     ]
    }
   ],
   "source": [
    "def person_info(name, city, age=18):\n",
    "    return f\"Name: {name}, Age: {age}, City: {city}\"\n",
    "\n",
    "# Example usage:\n",
    "print(person_info(name=\"Amma\", city=\"Los Angeles\", age=22))  # Output: \"Name: Amma, Age: 22, City: Los Angeles\"\n",
    "print(person_info(name=\"jhon\", city=\"Chicagos\"))  # Output: \"Name:jhon , Age: 18, City: chicagos\""
   ]
  },
  {
   "cell_type": "code",
   "execution_count": null,
   "id": "60615fea-3b7c-4b85-a595-bfbbce2b0314",
   "metadata": {},
   "outputs": [],
   "source": []
  },
  {
   "cell_type": "code",
   "execution_count": null,
   "id": "79287f1d-2614-49e8-8251-8ed8730b7ecf",
   "metadata": {},
   "outputs": [],
   "source": [
    "# 3 **Using *args and kwargs:"
   ]
  },
  {
   "cell_type": "code",
   "execution_count": 10,
   "id": "ba7c0ca3-28f2-446d-b6cb-111fea203e21",
   "metadata": {},
   "outputs": [
    {
     "name": "stdout",
     "output_type": "stream",
     "text": [
      "(6, {})\n",
      "(3, {'x': 4, 'y': 5})\n"
     ]
    }
   ],
   "source": [
    "def sum_numbers(*args, **kwargs):\n",
    "    # Sum only the numeric values from *args\n",
    "    total = sum(arg for arg in args if isinstance(arg, (int, float)))\n",
    "    \n",
    "    # Return the sum and the dictionary of keyword arguments\n",
    "    return total, kwargs\n",
    "\n",
    "# Example usage:\n",
    "print(sum_numbers(1, 2, 3))  # Output: (6, {})\n",
    "print(sum_numbers(1, 2, x=4, y=5))  # Output: (3, {'x': 4, 'y': 5})\n"
   ]
  },
  {
   "cell_type": "code",
   "execution_count": null,
   "id": "37c4d4b3-1eb6-4b38-bfc5-0d4dab1ab85d",
   "metadata": {},
   "outputs": [],
   "source": []
  },
  {
   "cell_type": "code",
   "execution_count": null,
   "id": "538f2dbf-ede3-4681-ae58-ae0afba1b74d",
   "metadata": {},
   "outputs": [],
   "source": [
    "# 4 Lambdas and Map"
   ]
  },
  {
   "cell_type": "code",
   "execution_count": 11,
   "id": "913a4a7e-f334-402e-a875-804d0ba3f0d9",
   "metadata": {},
   "outputs": [
    {
     "name": "stdout",
     "output_type": "stream",
     "text": [
      "[1, 4, 9, 16]\n"
     ]
    }
   ],
   "source": [
    "def square_list(numbers):\n",
    "    return list(map(lambda x: x**2, numbers))\n",
    "\n",
    "# Example usage:\n",
    "print(square_list([1, 2, 3, 4]))  # Output: [1, 4, 9, 16]\n"
   ]
  },
  {
   "cell_type": "code",
   "execution_count": null,
   "id": "391b4ef9-f050-4855-987b-2ebfb50ba1cb",
   "metadata": {},
   "outputs": [],
   "source": []
  },
  {
   "cell_type": "code",
   "execution_count": null,
   "id": "3f0ba664-c2f9-450a-9401-c3060686b644",
   "metadata": {},
   "outputs": [],
   "source": [
    "# 5 Filter and Lambdas:"
   ]
  },
  {
   "cell_type": "code",
   "execution_count": 12,
   "id": "9308559a-9972-4f58-84d8-d9e0fc08e649",
   "metadata": {},
   "outputs": [
    {
     "name": "stdout",
     "output_type": "stream",
     "text": [
      "[2, 4]\n"
     ]
    }
   ],
   "source": [
    "def filter_odd_numbers(numbers):\n",
    "    return list(filter(lambda x: x % 2 == 0, numbers))\n",
    "\n",
    "# Example usage:\n",
    "print(filter_odd_numbers([1, 2, 3, 4, 5]))  # Output: [2, 4]\n"
   ]
  },
  {
   "cell_type": "code",
   "execution_count": null,
   "id": "bd358407-b2ea-4094-8261-08c9928c409b",
   "metadata": {},
   "outputs": [],
   "source": []
  },
  {
   "cell_type": "code",
   "execution_count": null,
   "id": "236c1fe6-915e-4f03-845a-3401ac43f13a",
   "metadata": {},
   "outputs": [],
   "source": [
    "# 6 Basic List Comprehension:"
   ]
  },
  {
   "cell_type": "code",
   "execution_count": 13,
   "id": "a1fb11b5-77e0-4976-9f19-959b0953e2a0",
   "metadata": {},
   "outputs": [
    {
     "name": "stdout",
     "output_type": "stream",
     "text": [
      "[1, 4, 9, 16, 25]\n"
     ]
    }
   ],
   "source": [
    "numbers = [1, 2, 3, 4, 5]\n",
    "squares = [x**2 for x in numbers]\n",
    "print(squares)  # Output: [1, 4, 9, 16, 25]\n"
   ]
  },
  {
   "cell_type": "code",
   "execution_count": null,
   "id": "33cd7856-4fae-4203-8678-a00dead57d40",
   "metadata": {},
   "outputs": [],
   "source": []
  },
  {
   "cell_type": "code",
   "execution_count": null,
   "id": "3c39fc33-eb81-45b7-9a1a-4c7775d8d4ae",
   "metadata": {},
   "outputs": [],
   "source": [
    "# 7 List Comprehension with Condition:"
   ]
  },
  {
   "cell_type": "code",
   "execution_count": 26,
   "id": "53868621-3c81-4b75-a886-80aaa0f7afe8",
   "metadata": {},
   "outputs": [
    {
     "name": "stdout",
     "output_type": "stream",
     "text": [
      "[2, 4, 6, 8, 10, 12, 14, 16, 18, 20]\n"
     ]
    }
   ],
   "source": [
    "even_numbers = [x for x in range(1, 21) if x % 2 == 0]\n",
    "print(even_numbers)\n"
   ]
  },
  {
   "cell_type": "code",
   "execution_count": null,
   "id": "02ee0b3d-7ab6-4372-8922-661efb7f91ee",
   "metadata": {},
   "outputs": [],
   "source": []
  },
  {
   "cell_type": "code",
   "execution_count": null,
   "id": "796b6f75-6dd9-4779-ab10-08611ee81be3",
   "metadata": {},
   "outputs": [],
   "source": [
    "# 8 Using os and time Modules:"
   ]
  },
  {
   "cell_type": "code",
   "execution_count": 27,
   "id": "8a138478-f681-4da0-85f2-75300eb7e8b6",
   "metadata": {},
   "outputs": [
    {
     "name": "stdout",
     "output_type": "stream",
     "text": [
      "Directory 'test_folder' created.\n",
      "Directory 'test_folder' deleted.\n"
     ]
    }
   ],
   "source": [
    "import os\n",
    "import time\n",
    "\n",
    "def file_operations():\n",
    "    # Create a directory named \"test_folder\"\n",
    "    os.makedirs(\"test_folder\", exist_ok=True)\n",
    "    print(\"Directory 'test_folder' created.\")\n",
    "    \n",
    "    # Pause execution for 3 seconds\n",
    "    time.sleep(3)\n",
    "    \n",
    "    # Delete the directory\n",
    "    os.rmdir(\"test_folder\")\n",
    "    print(\"Directory 'test_folder' deleted.\")\n",
    "\n",
    "# Example usage\n",
    "file_operations()\n"
   ]
  },
  {
   "cell_type": "code",
   "execution_count": null,
   "id": "5881c273-53f7-404f-985b-6f46c9740d47",
   "metadata": {},
   "outputs": [],
   "source": []
  },
  {
   "cell_type": "code",
   "execution_count": null,
   "id": "b91774b6-d642-4a93-a67c-466e522a0e84",
   "metadata": {},
   "outputs": [],
   "source": [
    "# 9 Importing Specific Functions:"
   ]
  },
  {
   "cell_type": "code",
   "execution_count": 32,
   "id": "7267d3d6-38fd-49dd-8d53-1028b3a0ed95",
   "metadata": {},
   "outputs": [
    {
     "name": "stdout",
     "output_type": "stream",
     "text": [
      "Paused execution...\n"
     ]
    }
   ],
   "source": [
    "from time import sleep as pause\n",
    "\n",
    "# Pause execution for 2 seconds and print a message\n",
    "pause(2)\n",
    "print(\"Paused execution...\")\n"
   ]
  },
  {
   "cell_type": "code",
   "execution_count": null,
   "id": "26452223-f4ac-4f1b-ad8c-ab1561aef34e",
   "metadata": {},
   "outputs": [],
   "source": []
  },
  {
   "cell_type": "code",
   "execution_count": null,
   "id": "ecace194-95c1-4d43-9466-d6b290b78ff2",
   "metadata": {},
   "outputs": [],
   "source": [
    "# 10 **Recursive Function with *args and kwargs kwargs (Flattening a List):\n"
   ]
  },
  {
   "cell_type": "code",
   "execution_count": 34,
   "id": "69d6d913-17b2-48cc-bb1b-212bc4f6d62e",
   "metadata": {},
   "outputs": [
    {
     "name": "stdout",
     "output_type": "stream",
     "text": [
      "[1, 2, 3, 4, 5, 6]\n",
      "[1, 2, 3, 4, 5]\n"
     ]
    }
   ],
   "source": [
    "def flatten_list(nested_list):\n",
    "    flat_list = []\n",
    "    for item in nested_list:\n",
    "        if isinstance(item, list):\n",
    "            flat_list.extend(flatten_list(item))\n",
    "        else:\n",
    "            flat_list.append(item)\n",
    "    return flat_list\n",
    "print(flatten_list([1, [2, 3], [[4, 5], 6]]))  # Output: [1, 2, 3, 4, 5, 6]\n",
    "print(flatten_list([[1, 2], [3, [4, [5]]]]))  # Output: [1, 2, 3, 4, 5]    "
   ]
  }
 ],
 "metadata": {
  "kernelspec": {
   "display_name": "Python 3 (ipykernel)",
   "language": "python",
   "name": "python3"
  },
  "language_info": {
   "codemirror_mode": {
    "name": "ipython",
    "version": 3
   },
   "file_extension": ".py",
   "mimetype": "text/x-python",
   "name": "python",
   "nbconvert_exporter": "python",
   "pygments_lexer": "ipython3",
   "version": "3.12.5"
  }
 },
 "nbformat": 4,
 "nbformat_minor": 5
}
